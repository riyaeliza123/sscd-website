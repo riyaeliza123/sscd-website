{
 "cells": [
  {
   "cell_type": "code",
   "execution_count": 1,
   "id": "activated-amazon",
   "metadata": {},
   "outputs": [],
   "source": [
    "# set the working directory to be the SSCD folder (hit Ctrl+Enter to run cell)\n",
    "import os\n",
    "path_parent = os.path.dirname(os.getcwd())\n",
    "os.chdir(path_parent)\n",
    "%config Completer.use_jedi = False"
   ]
  },
  {
   "cell_type": "code",
   "execution_count": 2,
   "id": "306f780d",
   "metadata": {},
   "outputs": [
    {
     "data": {
      "text/plain": [
       "'c:\\\\Users\\\\hp\\\\Desktop\\\\sscd-website'"
      ]
     },
     "execution_count": 2,
     "metadata": {},
     "output_type": "execute_result"
    }
   ],
   "source": [
    "os.getcwd()"
   ]
  },
  {
   "cell_type": "markdown",
   "id": "numerical-prior",
   "metadata": {},
   "source": [
    "### Example run\n",
    "\n",
    "For example purposes, the following run uses a couple of scale images shipped with the repository while directing outputs to a temporary folder. \n",
    "\n",
    "Copying target images to the `SSCD/data` folder is not reccomended. \n",
    "\n",
    "Instead, use `--img_dir` to locate where the image files are stored, and set a more suitable output destination folder with `--output_dir`."
   ]
  },
  {
   "cell_type": "code",
   "execution_count": 3,
   "id": "herbal-access",
   "metadata": {},
   "outputs": [
    {
     "name": "stdout",
     "output_type": "stream",
     "text": [
      "usage: sscd.py [-h] --img_dir str --output_dir str\n",
      "               [--transect_angles int [int ...]]\n",
      "               [--dets_separate_files boolean_string]\n",
      "               [--plot_dets boolean_string] [--transect_max_boxes int]\n",
      "\n",
      "*** DESCRIPTION TO DO ***\n",
      "\n",
      "optional arguments:\n",
      "  -h, --help            show this help message and exit\n",
      "  --img_dir str         directory path containing scale image files. Expects\n",
      "                        .tif images\n",
      "  --output_dir str      directory path where outputs will be stored\n",
      "  --transect_angles int [int ...]\n",
      "                        choice of angle(s) for radial transects relative to\n",
      "                        focus, in degrees\n",
      "  --dets_separate_files boolean_string\n",
      "                        Require detections in each image to be saved in\n",
      "                        separate files\n",
      "  --plot_dets boolean_string\n",
      "                        Option to generate image plots with detections, for\n",
      "                        visual inspection\n",
      "  --transect_max_boxes int\n",
      "                        Maximum number of detections per transect image\n"
     ]
    }
   ],
   "source": [
    "# Quick look at the arguments and options (Ctrl+Enter to run cell)\n",
    "%run sscd.py --help"
   ]
  },
  {
   "cell_type": "code",
   "execution_count": 6,
   "id": "disciplinary-housing",
   "metadata": {},
   "outputs": [
    {
     "name": "stderr",
     "output_type": "stream",
     "text": [
      "INFO (2024-11-06 13:20:30): Converting 23 images to jpeg format\n",
      "100%|###################################################################################| 23/23 [00:19<00:00,  1.19it/s]\n",
      "INFO (2024-11-06 13:20:51): Gearing up focus detection\n",
      "INFO (2024-11-06 13:20:58): weights loaded\n",
      "INFO (2024-11-06 13:20:58): classes loaded\n",
      "INFO (2024-11-06 13:20:58): Starting detection in 23 images\n",
      "100%|###################################################################################| 23/23 [04:44<00:00, 12.39s/it]\n",
      "WARNING (2024-11-06 13:25:47): Failed to detect focus in 16 image(s):\n",
      "\n",
      "\t17801_10a\n",
      "\t17801_1a\n",
      "\t17801_1b\n",
      "\t17801_8a\n",
      "\t17824_3b\n",
      "\t17824_5c\n",
      "\t17883_1a\n",
      "\t17902_7a\n",
      "\t17902_7c\n",
      "\t17902_8b\n",
      "\t17902_8c\n",
      "\t17903_6a\n",
      "\t17903_6b\n",
      "\t17903_8a\n",
      "\t17903_8b\n",
      "\t17903_8c\n",
      "\n",
      "\tImage(s) with no detections saved to SSCD_outputs\\detections\\focus\\imgs_with_no_detections\n",
      "\n",
      "\n",
      "INFO (2024-11-06 13:25:48): Finished focus detection\n",
      "INFO (2024-11-06 13:25:48): Focus detection outputs saved to SSCD_outputs\\detections\\focus\n",
      "INFO (2024-11-06 13:25:48): Running sanity checks on focus detections...\n",
      "INFO (2024-11-06 13:25:48): ... no apparent issues\n",
      "INFO (2024-11-06 13:25:48): Extracting images of radial transects from focus in 7 scales\n",
      "100%|#####################################################################################| 7/7 [00:01<00:00,  4.96it/s]\n",
      "INFO (2024-11-06 13:25:49): Finished extracting transect images\n",
      "INFO (2024-11-06 13:25:49): Transect images saved to SSCD_outputs\\jpegs\\transects\n",
      "INFO (2024-11-06 13:25:49): Gearing up circuli detector\n",
      "INFO (2024-11-06 13:26:02): weights loaded\n",
      "INFO (2024-11-06 13:26:02): classes loaded\n",
      "INFO (2024-11-06 13:26:02): Starting detection in 7 images\n",
      "100%|#####################################################################################| 7/7 [00:35<00:00,  5.09s/it]\n",
      "INFO (2024-11-06 13:26:37): Finished circuli detection\n",
      "INFO (2024-11-06 13:26:37): Circuli detection outputs saved to SSCD_outputs\\detections\\circuli\n",
      "INFO (2024-11-06 13:26:37): Calculating intracirculus spacings (in pixels)\n",
      "INFO (2024-11-06 13:26:37): Running sanity checks on circuli detections and spacings...\n",
      "INFO (2024-11-06 13:26:38): ... no apparent issues\n",
      "INFO (2024-11-06 13:26:38): Run finished!\n",
      "\n",
      "---------------------------------------------------------\n",
      "Runtime duration: 6.13 mins\n",
      "\n",
      "Focus detection\n",
      "\tScale images processed: 23\n",
      "\tFocus detected: \t7\n",
      "\n",
      "Circuli detection\n",
      "\tTransect images processed: 7\n",
      "\tSummary statistics:\n",
      "\t\t       det_conf_score  spacing_px\n",
      "\t\tcount      881.000000      874.00\n",
      "\t\tmean         0.838127       14.95\n",
      "\t\tstd          0.187444       14.13\n",
      "\t\tmin          0.306530        3.00\n",
      "\t\t5%           0.429338        6.00\n",
      "\t\t50%          0.928809       12.00\n",
      "\t\t95%          0.997388       27.00\n",
      "\t\tmax          0.999193      205.00\n",
      "---------------------------------------------------------\n"
     ]
    }
   ],
   "source": [
    "# Example run (Ctrl+Enter to run cell)\n",
    "%run sscd.py \\\n",
    "    --img_dir \"./data/PSF_scales\" \\\n",
    "    --output_dir \"SSCD_outputs\"\\\n",
    "    --transect_angles 90 \\\n",
    "    --plot_dets True \\\n",
    "    --dets_separate_files True"
   ]
  }
 ],
 "metadata": {
  "kernelspec": {
   "display_name": "Python 3",
   "language": "python",
   "name": "python3"
  },
  "language_info": {
   "codemirror_mode": {
    "name": "ipython",
    "version": 3
   },
   "file_extension": ".py",
   "mimetype": "text/x-python",
   "name": "python",
   "nbconvert_exporter": "python",
   "pygments_lexer": "ipython3",
   "version": "3.7.12"
  }
 },
 "nbformat": 4,
 "nbformat_minor": 5
}
